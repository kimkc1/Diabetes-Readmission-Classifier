{
  "cells": [
    {
      "cell_type": "markdown",
      "metadata": {
        "id": "-I5MHpVOAVYs"
      },
      "source": [
        "# Set Up:\n",
        "\n",
        "To Do:\n",
        "\n",
        "- Project Idea: Error vs Complexity\n",
        "\n",
        "- Classifiers Needed:\n",
        "  \n",
        "  - kNN, logistic, feedforward neural networks (with at least 1 hidden layer), and KMeans Clustering (Other Classifier)"
      ]
    },
    {
      "cell_type": "code",
      "execution_count": null,
      "metadata": {
        "id": "1KjlFlsgAJDw"
      },
      "outputs": [],
      "source": [
        "# JUST RUN - DO NOT EDIT THIS CODE BLOCK\n",
        "\n",
        "import numpy as np\n",
        "import pandas as pd\n",
        "import math\n",
        "import matplotlib.pyplot as plt\n",
        "\n",
        "from sklearn.datasets import fetch_openml\n",
        "from sklearn.metrics import accuracy_score, confusion_matrix, ConfusionMatrixDisplay\n",
        "from sklearn.model_selection import train_test_split\n",
        "from sklearn.inspection import DecisionBoundaryDisplay\n",
        "from sklearn.preprocessing import LabelEncoder\n",
        "from sklearn.linear_model import LogisticRegression\n",
        "from sklearn.feature_extraction.text import CountVectorizer\n",
        "from sklearn.preprocessing import OneHotEncoder\n",
        "from sklearn.neighbors import KNeighborsClassifier\n",
        "\n",
        "# Fix the random seed for reproducibility\n",
        "# !! Important !! : do not change this\n",
        "seed = 1234\n",
        "np.random.seed(seed)"
      ]
    },
    {
      "cell_type": "code",
      "execution_count": null,
      "metadata": {
        "colab": {
          "base_uri": "https://localhost:8080/"
        },
        "id": "LuK_ZH-iB5IX",
        "outputId": "74248b9f-6585-400b-f7ae-82c3d2fdfba1"
      },
      "outputs": [
        {
          "name": "stdout",
          "output_type": "stream",
          "text": [
            "Collecting ucimlrepo\n",
            "  Downloading ucimlrepo-0.0.3-py3-none-any.whl (7.0 kB)\n",
            "Installing collected packages: ucimlrepo\n",
            "Successfully installed ucimlrepo-0.0.3\n"
          ]
        }
      ],
      "source": [
        "pip install ucimlrepo"
      ]
    },
    {
      "cell_type": "markdown",
      "metadata": {
        "id": "9__w1OdQX8N6"
      },
      "source": [
        "# K Nearest Neighbor"
      ]
    },
    {
      "cell_type": "code",
      "execution_count": null,
      "metadata": {
        "colab": {
          "base_uri": "https://localhost:8080/"
        },
        "id": "ncfv7q65BzEJ",
        "outputId": "354a8244-c652-4829-a2c2-78ddd5715abb"
      },
      "outputs": [
        {
          "name": "stdout",
          "output_type": "stream",
          "text": [
            "Index(['race', 'gender', 'age', 'weight', 'admission_type_id',\n",
            "       'discharge_disposition_id', 'admission_source_id', 'time_in_hospital',\n",
            "       'payer_code', 'medical_specialty', 'num_lab_procedures',\n",
            "       'num_procedures', 'num_medications', 'number_outpatient',\n",
            "       'number_emergency', 'number_inpatient', 'diag_1', 'diag_2', 'diag_3',\n",
            "       'number_diagnoses', 'max_glu_serum', 'A1Cresult', 'metformin',\n",
            "       'repaglinide', 'nateglinide', 'chlorpropamide', 'glimepiride',\n",
            "       'acetohexamide', 'glipizide', 'glyburide', 'tolbutamide',\n",
            "       'pioglitazone', 'rosiglitazone', 'acarbose', 'miglitol', 'troglitazone',\n",
            "       'tolazamide', 'examide', 'citoglipton', 'insulin',\n",
            "       'glyburide-metformin', 'glipizide-metformin',\n",
            "       'glimepiride-pioglitazone', 'metformin-rosiglitazone',\n",
            "       'metformin-pioglitazone', 'change', 'diabetesMed'],\n",
            "      dtype='object')\n",
            "47\n"
          ]
        },
        {
          "name": "stderr",
          "output_type": "stream",
          "text": [
            "/usr/local/lib/python3.10/dist-packages/ucimlrepo/fetch.py:97: DtypeWarning: Columns (10) have mixed types. Specify dtype option on import or set low_memory=False.\n",
            "  df = pd.read_csv(data_url)\n"
          ]
        }
      ],
      "source": [
        "from ucimlrepo import fetch_ucirepo\n",
        "\n",
        "# fetch dataset\n",
        "diabetes_130_us_hospitals_for_years_1999_2008 = fetch_ucirepo(id=296)\n",
        "\n",
        "# data (as pandas dataframes)\n",
        "\n",
        "# twp features of each patient\n",
        "X = diabetes_130_us_hospitals_for_years_1999_2008.data.features\n",
        "\n",
        "# if the patients were readmitted\n",
        "y = diabetes_130_us_hospitals_for_years_1999_2008.data.targets\n",
        "\n",
        "print(X.columns)        # find all of the columns\n",
        "print(len(X.columns))   # finds the number of columns"
      ]
    },
    {
      "cell_type": "code",
      "execution_count": null,
      "metadata": {
        "id": "nkOfROPUrj13"
      },
      "outputs": [],
      "source": [
        "# Get the target feature (\"readmitted\")\n",
        "# model should predict whether a patient is readmitted to the hospital within 30 days of discharge\n",
        "\n",
        "# prepare the target values\n",
        "target_mapping = {'>30': 2, '<30': 1, 'NO': 0}\n",
        "y.replace(target_mapping, inplace=True)\n",
        "\n",
        "# replace missing values with Nan\n",
        "X.replace(\"?\", np.nan, inplace=True)\n",
        "\n",
        "# find relevant columns (if the majority of the column contains 'No' or 'None'\n",
        "# remove that column bc it prob won't provide useful information for analysis\n",
        "print(\"List of Dropped Features:\")\n",
        "\n",
        "for column in X.columns:\n",
        "    empty_count = X[column].isin(['No', 'None']).sum()\n",
        "    total_values = X[column].notnull().sum()\n",
        "\n",
        "    if (empty_count / total_values) > 0.6:\n",
        "        print(column)\n",
        "        X.drop(column, axis=1, inplace=True)\n",
        "\n",
        "# get all the remaining features that are non numeric and convert them to numeric types\n",
        "\n",
        "non_numeric_features = X.select_dtypes(exclude=['number']).columns\n",
        "print(non_numeric_features)           # shows us the non numeric features\n",
        "print(len(non_numeric_features))      # the number of non numeric features\n",
        "\n",
        "#convert all categorical values to integers\n",
        "\n",
        "le = LabelEncoder()\n",
        "\n",
        "for column in non_numeric_features:\n",
        "    X[column] = le.fit_transform(X[column])\n",
        "\n",
        "X.fillna(X.mean(), inplace=True)    # replace missing values with the mean of the column"
      ]
    },
    {
      "cell_type": "code",
      "execution_count": null,
      "metadata": {
        "colab": {
          "base_uri": "https://localhost:8080/"
        },
        "id": "fm32V3F6r1fm",
        "outputId": "b854c86d-af92-4665-df57-7547b3f2ee09"
      },
      "outputs": [
        {
          "name": "stdout",
          "output_type": "stream",
          "text": [
            "(76324, 23) (25442, 23) (76324, 1) (25442, 1)\n"
          ]
        }
      ],
      "source": [
        "# X\n",
        "\n",
        "X_tr, X_te, y_tr, y_te = train_test_split(X, y, test_size=0.25, random_state=seed, shuffle=True)\n",
        "\n",
        "print(X_tr.shape, X_te.shape, y_tr.shape, y_te.shape)"
      ]
    },
    {
      "cell_type": "code",
      "execution_count": null,
      "metadata": {
        "id": "HubP1G1myGv7"
      },
      "outputs": [],
      "source": [
        "plot_kwargs = {'cmap': 'viridis',\n",
        "               'response_method': 'predict',\n",
        "               'plot_method': 'pcolormesh',\n",
        "               'shading': 'auto',\n",
        "               'alpha': 0.5,\n",
        "               'grid_resolution': 100}\n",
        "\n",
        "\n",
        "# Plotting different k values\n",
        "# figure, axes = plt.subplots(2, 2, figsize=(8, 8))\n",
        "\n",
        "# k_vals = [1, 5, 10, 15]\n",
        "# for i, k in enumerate(k_vals):\n",
        "#     knn = KNeighborsClassifier(n_neighbors=k)\n",
        "#     knn.fit(X_tr, y_tr)\n",
        "\n",
        "#     DecisionBoundaryDisplay.from_estimator(knn, X_tr, ax=axes[i//2, i%2], **plot_kwargs)\n",
        "\n",
        "#     axes[i//2, i%2].scatter(X_tr[\"num_procedures\"], X_tr[\"num_medications\"])\n",
        "#     axes[i//2, i%2].set_title(f'k: {k}')\n",
        "\n",
        "\n",
        "# Plotting one singular k value\n",
        "knn = KNeighborsClassifier(n_neighbors=25) # or 100 (but may be overfitting)\n",
        "knn.fit(X_tr, y_tr)\n",
        "DecisionBoundaryDisplay.from_estimator(knn, X_tr, **plot_kwargs)\n",
        "plt.scatter(X_tr[\"num_procedures\"], X_tr[\"num_medications\"])"
      ]
    },
    {
      "cell_type": "code",
      "execution_count": null,
      "metadata": {
        "colab": {
          "base_uri": "https://localhost:8080/",
          "height": 587
        },
        "id": "fkpvhApLsJ9P",
        "outputId": "c6eb303c-35e1-4be2-b1ef-b502ffb946f8"
      },
      "outputs": [
        {
          "output_type": "display_data",
          "data": {
            "text/plain": [
              "<Figure size 600x600 with 1 Axes>"
            ],
            "image/png": "[encoded data removed]"
          },
          "metadata": {}
        },
        {
          "output_type": "stream",
          "name": "stdout",
          "text": [
            "\n"
          ]
        }
      ],
      "source": [
        "from sklearn.metrics import accuracy_score\n",
        "# Create a figure with only one subplot\n",
        "figure, axes = plt.subplots(1, figsize=(6, 6))\n",
        "\n",
        "k_values = [1, 10, 25, 50, 100, 125, 150, 200, 215, 500, 750, 1000, 1250, 2000]\n",
        "train_errors = []\n",
        "test_errors = []\n",
        "\n",
        "for k in k_values:\n",
        "    # Train the model\n",
        "    knn = KNeighborsClassifier(n_neighbors=k)\n",
        "    knn.fit(X_tr, np.ravel(y_tr))\n",
        "\n",
        "    # Make predictions\n",
        "    y_train_pred = knn.predict(X_tr)\n",
        "    y_test_pred = knn.predict(X_te)\n",
        "\n",
        "    # Calculate error rates\n",
        "    train_error = 1 - accuracy_score(y_tr, y_train_pred)\n",
        "    test_error = 1 - accuracy_score(y_te, y_test_pred)\n",
        "\n",
        "    train_errors.append(train_error)\n",
        "    test_errors.append(test_error)\n",
        "\n",
        "# Plotting on a semi-log scale\n",
        "plt.semilogx(k_values, train_errors, label='Train Error', color='red')\n",
        "plt.semilogx(k_values, test_errors, label='Test Error', color='green')\n",
        "plt.xlabel('k (Number of Neighbors)')\n",
        "plt.ylabel('Error Rate')\n",
        "plt.title('Error Rate vs. k')\n",
        "plt.legend()\n",
        "plt.show()\n",
        "print()"
      ]
    },
    {
      "cell_type": "code",
      "execution_count": null,
      "metadata": {
        "colab": {
          "base_uri": "https://localhost:8080/"
        },
        "id": "Ve8yl2rvIpOS",
        "outputId": "4c3e7bfd-783b-4471-b472-8f5358088bcd"
      },
      "outputs": [
        {
          "name": "stdout",
          "output_type": "stream",
          "text": [
            "Train Error Lowest K Value: 100\n",
            " Train Error Lowest Value: 0.46010429222787064\n",
            "\n",
            "\n",
            "Test Error Lowest K Value: 100\n",
            " Test Error Lowest Value: 0.4600660325446113\n",
            "\n"
          ]
        }
      ],
      "source": [
        "print(f\"Train Error Lowest K Value: {k_values[train_errors.index(min(train_errors))]}\\n Train Error Lowest Value: {min(train_errors)}\")\n",
        "print(f\"\\n\\nTest Error Lowest K Value: {k_values[test_errors.index(min(test_errors))]}\\n Test Error Lowest Value: {min(test_errors)}\\n\")"
      ]
    }
  ],
  "metadata": {
    "colab": {
      "provenance": []
    },
    "kernelspec": {
      "display_name": "Python 3",
      "name": "python3"
    },
    "language_info": {
      "name": "python"
    }
  },
  "nbformat": 4,
  "nbformat_minor": 0
}