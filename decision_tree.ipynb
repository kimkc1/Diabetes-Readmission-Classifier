{
 "cells": [
  {
   "cell_type": "code",
   "execution_count": null,
   "metadata": {},
   "outputs": [],
   "source": [
    "train_acc = []\n",
    "test_acc = []\n",
    "\n",
    "for i in range(1, 51):\n",
    "  dtc = DecisionTreeClassifier(min_samples_leaf=i, random_state=seed)\n",
    "  dtc.fit(X_tr, y_tr)\n",
    "  tr_pred = dtc.predict(X_tr)\n",
    "  te_pred = dtc.predict(X_te)\n",
    "\n",
    "  tr_err = 1-accuracy_score(y_tr, tr_pred)\n",
    "  te_err = 1-accuracy_score(y_te, te_pred)\n",
    "\n",
    "  train_acc.append(tr_err)\n",
    "  test_acc.append(te_err)\n",
    "\n",
    "plt.plot(train_acc, marker = 'o', label=\"Training Error\")\n",
    "plt.plot(test_acc, marker = 'o', label=\"Testing Error\")\n",
    "plt.xlabel(\"Min Leaves\")\n",
    "plt.ylabel(\"Error\")\n",
    "plt.title(\"Training and Testing Set Error as a Function of Min Leaf Samples\")\n",
    "plt.legend()\n",
    "plt.show()"
   ]
  },
  {
   "cell_type": "code",
   "execution_count": null,
   "metadata": {},
   "outputs": [],
   "source": [
    "train_acc = []\n",
    "test_acc = []\n",
    "\n",
    "for i in range(1, 51):\n",
    "  dtc = DecisionTreeClassifier(max_depth=i, random_state=seed)\n",
    "  dtc.fit(X_tr, y_tr)\n",
    "  tr_pred = dtc.predict(X_tr)\n",
    "  te_pred = dtc.predict(X_te)\n",
    "\n",
    "  tr_err = 1-accuracy_score(y_tr, tr_pred)\n",
    "  te_err = 1-accuracy_score(y_te, te_pred)\n",
    "\n",
    "  train_acc.append(tr_err)\n",
    "  test_acc.append(te_err)\n",
    "\n",
    "plt.plot(train_acc, marker = 'o', label=\"Training Error\")\n",
    "plt.plot(test_acc, marker = 'o', label=\"Testing Error\")\n",
    "plt.xlabel(\"Max Depth\")\n",
    "plt.ylabel(\"Error\")\n",
    "plt.title(\"Training and Testing Set Errors as a Function of Depth\")\n",
    "plt.legend()\n",
    "plt.show()"
   ]
  }
 ],
 "metadata": {
  "language_info": {
   "name": "python"
  }
 },
 "nbformat": 4,
 "nbformat_minor": 2
}
